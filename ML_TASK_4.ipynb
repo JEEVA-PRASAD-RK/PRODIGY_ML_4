{
  "nbformat": 4,
  "nbformat_minor": 0,
  "metadata": {
    "colab": {
      "provenance": [],
      "authorship_tag": "ABX9TyO21QD8M/l7PaTPSC+0rQj1",
      "include_colab_link": true
    },
    "kernelspec": {
      "name": "python3",
      "display_name": "Python 3"
    },
    "language_info": {
      "name": "python"
    }
  },
  "cells": [
    {
      "cell_type": "markdown",
      "metadata": {
        "id": "view-in-github",
        "colab_type": "text"
      },
      "source": [
        "<a href=\"https://colab.research.google.com/github/JEEVA-PRASAD-RK/PRODIGY_ML_4/blob/main/ML_TASK_4.ipynb\" target=\"_parent\"><img src=\"https://colab.research.google.com/assets/colab-badge.svg\" alt=\"Open In Colab\"/></a>"
      ]
    },
    {
      "cell_type": "code",
      "execution_count": 1,
      "metadata": {
        "colab": {
          "base_uri": "https://localhost:8080/"
        },
        "id": "AePzg3lIYNoD",
        "outputId": "9f5e412d-4a04-4dee-9c57-037fb3f5fc32"
      },
      "outputs": [
        {
          "output_type": "stream",
          "name": "stdout",
          "text": [
            "Downloading data from https://storage.googleapis.com/tensorflow/tf-keras-datasets/mnist.npz\n",
            "11490434/11490434 [==============================] - 0s 0us/step\n",
            "Epoch 1/10\n",
            "469/469 [==============================] - 64s 132ms/step - loss: 0.2367 - accuracy: 0.9320 - val_loss: 0.0630 - val_accuracy: 0.9795\n",
            "Epoch 2/10\n",
            "469/469 [==============================] - 47s 100ms/step - loss: 0.0612 - accuracy: 0.9811 - val_loss: 0.0471 - val_accuracy: 0.9838\n",
            "Epoch 3/10\n",
            "469/469 [==============================] - 46s 98ms/step - loss: 0.0430 - accuracy: 0.9870 - val_loss: 0.0398 - val_accuracy: 0.9874\n",
            "Epoch 4/10\n",
            "469/469 [==============================] - 49s 105ms/step - loss: 0.0341 - accuracy: 0.9891 - val_loss: 0.0336 - val_accuracy: 0.9882\n",
            "Epoch 5/10\n",
            "469/469 [==============================] - 46s 99ms/step - loss: 0.0266 - accuracy: 0.9919 - val_loss: 0.0344 - val_accuracy: 0.9884\n",
            "Epoch 6/10\n",
            "469/469 [==============================] - 45s 96ms/step - loss: 0.0224 - accuracy: 0.9928 - val_loss: 0.0287 - val_accuracy: 0.9903\n",
            "Epoch 7/10\n",
            "469/469 [==============================] - 48s 101ms/step - loss: 0.0185 - accuracy: 0.9944 - val_loss: 0.0320 - val_accuracy: 0.9901\n",
            "Epoch 8/10\n",
            "469/469 [==============================] - 53s 112ms/step - loss: 0.0159 - accuracy: 0.9950 - val_loss: 0.0273 - val_accuracy: 0.9919\n",
            "Epoch 9/10\n",
            "469/469 [==============================] - 46s 99ms/step - loss: 0.0123 - accuracy: 0.9961 - val_loss: 0.0316 - val_accuracy: 0.9901\n",
            "Epoch 10/10\n",
            "469/469 [==============================] - 48s 102ms/step - loss: 0.0108 - accuracy: 0.9966 - val_loss: 0.0297 - val_accuracy: 0.9912\n",
            "Test loss: 0.029749618843197823\n",
            "Test accuracy: 0.9911999702453613\n"
          ]
        }
      ],
      "source": [
        "import tensorflow as tf\n",
        "from tensorflow.keras.models import Sequential\n",
        "from tensorflow.keras.layers import Conv2D, MaxPooling2D, Flatten, Dense\n",
        "import cv2\n",
        "import numpy as np\n",
        "\n",
        "# Load the dataset\n",
        "(x_train, y_train), (x_test, y_test) = tf.keras.datasets.mnist.load_data()\n",
        "\n",
        "# Preprocess the data\n",
        "x_train = x_train.reshape(-1, 28, 28, 1)\n",
        "x_test = x_test.reshape(-1, 28, 28, 1)\n",
        "x_train = x_train.astype('float32') / 255\n",
        "x_test = x_test.astype('float32') / 255\n",
        "y_train = tf.keras.utils.to_categorical(y_train, 10)\n",
        "y_test = tf.keras.utils.to_categorical(y_test, 10)\n",
        "\n",
        "# Define the model architecture\n",
        "model = Sequential()\n",
        "model.add(Conv2D(32, kernel_size=(3, 3), activation='relu', input_shape=(28, 28, 1)))\n",
        "model.add(MaxPooling2D(pool_size=(2, 2)))\n",
        "model.add(Conv2D(64, kernel_size=(3, 3), activation='relu'))\n",
        "model.add(MaxPooling2D(pool_size=(2, 2)))\n",
        "model.add(Flatten())\n",
        "model.add(Dense(64, activation='relu'))\n",
        "model.add(Dense(10, activation='softmax'))\n",
        "\n",
        "# Compile the model\n",
        "model.compile(loss=tf.keras.losses.categorical_crossentropy,\n",
        "              optimizer=tf.keras.optimizers.Adam(),\n",
        "              metrics=['accuracy'])\n",
        "\n",
        "# Train the model\n",
        "model.fit(x_train, y_train,\n",
        "          batch_size=128,\n",
        "          epochs=10,\n",
        "          verbose=1,\n",
        "          validation_data=(x_test, y_test))\n",
        "\n",
        "# Test the model\n",
        "score = model.evaluate(x_test, y_test, verbose=0)\n",
        "print('Test loss:', score[0])\n",
        "print('Test accuracy:', score[1])\n",
        "\n",
        "# Real-time testing using a webcam\n",
        "def real_time_test():\n",
        "    cap = cv2.VideoCapture(0)\n",
        "    while True:\n",
        "        ret, frame = cap.read()\n",
        "        if not ret:\n",
        "            break\n",
        "        frame = cv2.resize(frame, (28, 28))\n",
        "        frame = cv2.cvtColor(frame, cv2.COLOR_BGR2GRAY)\n",
        "        frame = np.expand_dims(frame, axis=-1)\n",
        "        frame = frame.astype('float32') / 255\n",
        "        frame = np.expand_dims(frame, axis=0)\n",
        "        prediction = model.predict(frame)\n",
        "        predicted_class = np.argmax(prediction)\n",
        "        cv2.putText(frame, str(predicted_class), (10, 30), cv2.FONT_HERSHEY_SIMPLEX, 1, (0, 255, 0), 2)\n",
        "        cv2.imshow('Hand Gesture Recognition', frame)\n",
        "        if cv2.waitKey(1) & 0xFF == ord('q'):\n",
        "            break\n",
        "    cap.release()\n",
        "    cv2.destroyAllWindows()\n",
        "\n",
        "real_time_test()"
      ]
    }
  ]
}